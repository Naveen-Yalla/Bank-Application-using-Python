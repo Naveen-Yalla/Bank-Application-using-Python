{
 "cells": [
  {
   "cell_type": "code",
   "execution_count": 1,
   "id": "89cc9da3-5758-4925-b5e5-20ddbb332f7d",
   "metadata": {},
   "outputs": [
    {
     "name": "stdout",
     "output_type": "stream",
     "text": [
      "{'user_1': {'username': 'angryleopard760', 'password': 'rockets', 'Balance': 3353}, 'user_2': {'username': 'redleopard619', 'password': 'barry', 'Balance': 3104}, 'user_3': {'username': 'smallladybug445', 'password': 'dancer', 'Balance': 2732}, 'user_4': {'username': 'organicdog913', 'password': 'down', 'Balance': 7841}, 'user_5': {'username': 'purplecat662', 'password': 'drake', 'Balance': 3158}, 'user_6': {'username': 'heavywolf788', 'password': '1129', 'Balance': 7238}, 'user_7': {'username': 'goldengorilla434', 'password': 'washington', 'Balance': 4460}, 'user_8': {'username': 'bigbird908', 'password': 'snapple', 'Balance': 5914}, 'user_9': {'username': 'crazyfrog280', 'password': 'dylan1', 'Balance': 632}, 'user_10': {'username': 'ticklishlion193', 'password': 'juventus', 'Balance': 4469}}\n"
     ]
    }
   ],
   "source": [
    "import requests\n",
    "import random\n",
    "import json\n",
    "\n",
    "#CREATING THE DICTIONARY DATABASE FILE\n",
    "db={}\n",
    "for i in range(1,11):\n",
    "    d = requests.get(\"https://randomuser.me/api/\").json()\n",
    "    username= d['results'][0]['login']['username']\n",
    "    password= d['results'][0]['login']['password']\n",
    "    db[f'user_{i}']= {'username': username, 'password': password, 'Balance': random.randint(0,10000)}\n",
    "print(db)"
   ]
  },
  {
   "cell_type": "code",
   "execution_count": 2,
   "id": "13a37f83-bc90-43ce-a9b7-0838098f60e0",
   "metadata": {},
   "outputs": [],
   "source": [
    "#CREATING THE JAVASCRIPT OBJECT NOTATION(JSON) FROM THE DICTIONARY\n",
    "with open('Bank_Data.json','w') as f:\n",
    "    json.dump(db,f)"
   ]
  },
  {
   "cell_type": "code",
   "execution_count": 3,
   "id": "c3a678b2-215b-42ea-93b8-81147914d5ef",
   "metadata": {},
   "outputs": [],
   "source": [
    "def input_validation():\n",
    "    information={}\n",
    "    with open('Bank_Data.json','r') as f:\n",
    "        information = json.load(f)\n",
    "        user_found=False\n",
    "        user_name=input('Enter username: ')\n",
    "        for i,j in information.items():\n",
    "            if information[i]['username']==user_name:\n",
    "                attempt=1\n",
    "                while attempt<=3:\n",
    "                    password=input('Enter your Password: ')\n",
    "                    if information[i]['password']==password:\n",
    "                        print('Login Succeess')\n",
    "                        user_found=True\n",
    "                        break\n",
    "                    elif attempt==3:\n",
    "                        print(\"You have exceeded the maximum number of login attempts. Please try again after Sometime.\")\n",
    "                    else:\n",
    "                        print('Try Again')\n",
    "                    attempt+=1\n",
    "                if user_found:\n",
    "                    break\n",
    "        else:\n",
    "            print(\"Username doesn't Exist\")\n",
    "        \n",
    "        if user_found==True:\n",
    "            print('------------')\n",
    "            print(\"1 --> Deposit\")\n",
    "            print(\"2 --> Withdraw\")\n",
    "            print(\"3 --> Check Balance\")\n",
    "            print(\"4 --> exit\")\n",
    "            x = int(input(\"Please Choose your option from the above Options: \"))\n",
    "            print()\n",
    "            if x==1:\n",
    "                amount = int(input(\"Enter the amount you want to deposit: \"))\n",
    "                information[i]['Balance'] += amount\n",
    "                print(\"Amount has been depposited successfully\")\n",
    "            elif x==2:\n",
    "                amount = int(input(\"Enter the amount you want to draw\"))\n",
    "                information[i]['Balance']-=amount\n",
    "                print(f\"{amount} has been withdrawn\")\n",
    "            elif x==3:\n",
    "                print(f'{information[i]['Balance']} is the available balance')\n",
    "            elif x==4:\n",
    "                print('Account Server Exiting...')\n",
    "            else:\n",
    "                print(\"Invalid Input\")\n",
    "            with open('Bank_Data.json','w') as f:\n",
    "                json.dump(information,f)"
   ]
  },
  {
   "cell_type": "code",
   "execution_count": 4,
   "id": "33625928-dcd0-44d1-8783-5ece28c35620",
   "metadata": {},
   "outputs": [
    {
     "name": "stdin",
     "output_type": "stream",
     "text": [
      "Enter username:  crazyfrog280\n",
      "Enter your Password:  dylan1\n"
     ]
    },
    {
     "name": "stdout",
     "output_type": "stream",
     "text": [
      "Login Succeess\n",
      "------------\n",
      "1 --> Deposit\n",
      "2 --> Withdraw\n",
      "3 --> Check Balance\n",
      "4 --> exit\n"
     ]
    },
    {
     "name": "stdin",
     "output_type": "stream",
     "text": [
      "Please Choose your option from the above Options:  1\n"
     ]
    },
    {
     "name": "stdout",
     "output_type": "stream",
     "text": [
      "\n"
     ]
    },
    {
     "name": "stdin",
     "output_type": "stream",
     "text": [
      "Enter the amount you want to deposit:  5000\n"
     ]
    },
    {
     "name": "stdout",
     "output_type": "stream",
     "text": [
      "Amount has been depposited successfully\n"
     ]
    }
   ],
   "source": [
    "input_validation()"
   ]
  },
  {
   "cell_type": "code",
   "execution_count": 5,
   "id": "cf18a9e6-f681-4efb-b236-f8681923cda0",
   "metadata": {},
   "outputs": [
    {
     "name": "stdout",
     "output_type": "stream",
     "text": [
      "{\"user_1\": {\"username\": \"angryleopard760\", \"password\": \"rockets\", \"Balance\": 3353}, \"user_2\": {\"username\": \"redleopard619\", \"password\": \"barry\", \"Balance\": 3104}, \"user_3\": {\"username\": \"smallladybug445\", \"password\": \"dancer\", \"Balance\": 2732}, \"user_4\": {\"username\": \"organicdog913\", \"password\": \"down\", \"Balance\": 7841}, \"user_5\": {\"username\": \"purplecat662\", \"password\": \"drake\", \"Balance\": 3158}, \"user_6\": {\"username\": \"heavywolf788\", \"password\": \"1129\", \"Balance\": 7238}, \"user_7\": {\"username\": \"goldengorilla434\", \"password\": \"washington\", \"Balance\": 4460}, \"user_8\": {\"username\": \"bigbird908\", \"password\": \"snapple\", \"Balance\": 5914}, \"user_9\": {\"username\": \"crazyfrog280\", \"password\": \"dylan1\", \"Balance\": 5632}, \"user_10\": {\"username\": \"ticklishlion193\", \"password\": \"juventus\", \"Balance\": 4469}}\n"
     ]
    }
   ],
   "source": [
    "with open('Bank_Data.json','r') as f:\n",
    "    print(f.read())"
   ]
  },
  {
   "cell_type": "code",
   "execution_count": null,
   "id": "bf043fc7-e93a-4176-a062-709b2ec63d22",
   "metadata": {},
   "outputs": [],
   "source": []
  }
 ],
 "metadata": {
  "kernelspec": {
   "display_name": "Python 3 (ipykernel)",
   "language": "python",
   "name": "python3"
  },
  "language_info": {
   "codemirror_mode": {
    "name": "ipython",
    "version": 3
   },
   "file_extension": ".py",
   "mimetype": "text/x-python",
   "name": "python",
   "nbconvert_exporter": "python",
   "pygments_lexer": "ipython3",
   "version": "3.13.5"
  }
 },
 "nbformat": 4,
 "nbformat_minor": 5
}
